{
 "cells": [
  {
   "cell_type": "code",
   "execution_count": 2,
   "id": "0ffc6f09",
   "metadata": {},
   "outputs": [
    {
     "name": "stdout",
     "output_type": "stream",
     "text": [
      "Requirement already satisfied: phonemizer in /var/lit2425/pib/XTTSv2-Finetuning-for-New-Languages/.venv/lib/python3.10/site-packages (3.3.0)\n",
      "Requirement already satisfied: praat-parselmouth in /var/lit2425/pib/XTTSv2-Finetuning-for-New-Languages/.venv/lib/python3.10/site-packages (0.4.5)\n",
      "Requirement already satisfied: segments in /var/lit2425/pib/XTTSv2-Finetuning-for-New-Languages/.venv/lib/python3.10/site-packages (from phonemizer) (2.3.0)\n",
      "Requirement already satisfied: attrs>=18.1 in /var/lit2425/pib/XTTSv2-Finetuning-for-New-Languages/.venv/lib/python3.10/site-packages (from phonemizer) (25.3.0)\n",
      "Requirement already satisfied: typing-extensions in /var/lit2425/pib/XTTSv2-Finetuning-for-New-Languages/.venv/lib/python3.10/site-packages (from phonemizer) (4.13.1)\n",
      "Requirement already satisfied: dlinfo in /var/lit2425/pib/XTTSv2-Finetuning-for-New-Languages/.venv/lib/python3.10/site-packages (from phonemizer) (2.0.0)\n",
      "Requirement already satisfied: joblib in /var/lit2425/pib/XTTSv2-Finetuning-for-New-Languages/.venv/lib/python3.10/site-packages (from phonemizer) (1.4.2)\n",
      "Requirement already satisfied: numpy>=1.7.0 in /var/lit2425/pib/XTTSv2-Finetuning-for-New-Languages/.venv/lib/python3.10/site-packages (from praat-parselmouth) (1.22.0)\n",
      "Requirement already satisfied: regex in /var/lit2425/pib/XTTSv2-Finetuning-for-New-Languages/.venv/lib/python3.10/site-packages (from segments->phonemizer) (2024.11.6)\n",
      "Requirement already satisfied: csvw>=1.5.6 in /var/lit2425/pib/XTTSv2-Finetuning-for-New-Languages/.venv/lib/python3.10/site-packages (from segments->phonemizer) (3.5.1)\n",
      "Requirement already satisfied: rdflib in /var/lit2425/pib/XTTSv2-Finetuning-for-New-Languages/.venv/lib/python3.10/site-packages (from csvw>=1.5.6->segments->phonemizer) (7.1.4)\n",
      "Requirement already satisfied: python-dateutil in /var/lit2425/pib/XTTSv2-Finetuning-for-New-Languages/.venv/lib/python3.10/site-packages (from csvw>=1.5.6->segments->phonemizer) (2.9.0.post0)\n",
      "Requirement already satisfied: isodate in /var/lit2425/pib/XTTSv2-Finetuning-for-New-Languages/.venv/lib/python3.10/site-packages (from csvw>=1.5.6->segments->phonemizer) (0.7.2)\n",
      "Requirement already satisfied: rfc3986<2 in /var/lit2425/pib/XTTSv2-Finetuning-for-New-Languages/.venv/lib/python3.10/site-packages (from csvw>=1.5.6->segments->phonemizer) (1.5.0)\n",
      "Requirement already satisfied: requests in /var/lit2425/pib/XTTSv2-Finetuning-for-New-Languages/.venv/lib/python3.10/site-packages (from csvw>=1.5.6->segments->phonemizer) (2.32.3)\n",
      "Requirement already satisfied: uritemplate>=3.0.0 in /var/lit2425/pib/XTTSv2-Finetuning-for-New-Languages/.venv/lib/python3.10/site-packages (from csvw>=1.5.6->segments->phonemizer) (4.1.1)\n",
      "Requirement already satisfied: jsonschema in /var/lit2425/pib/XTTSv2-Finetuning-for-New-Languages/.venv/lib/python3.10/site-packages (from csvw>=1.5.6->segments->phonemizer) (4.23.0)\n",
      "Requirement already satisfied: language-tags in /var/lit2425/pib/XTTSv2-Finetuning-for-New-Languages/.venv/lib/python3.10/site-packages (from csvw>=1.5.6->segments->phonemizer) (1.2.0)\n",
      "Requirement already satisfied: colorama in /var/lit2425/pib/XTTSv2-Finetuning-for-New-Languages/.venv/lib/python3.10/site-packages (from csvw>=1.5.6->segments->phonemizer) (0.4.6)\n",
      "Requirement already satisfied: babel in /var/lit2425/pib/XTTSv2-Finetuning-for-New-Languages/.venv/lib/python3.10/site-packages (from csvw>=1.5.6->segments->phonemizer) (2.17.0)\n",
      "Requirement already satisfied: referencing>=0.28.4 in /var/lit2425/pib/XTTSv2-Finetuning-for-New-Languages/.venv/lib/python3.10/site-packages (from jsonschema->csvw>=1.5.6->segments->phonemizer) (0.36.2)\n",
      "Requirement already satisfied: jsonschema-specifications>=2023.03.6 in /var/lit2425/pib/XTTSv2-Finetuning-for-New-Languages/.venv/lib/python3.10/site-packages (from jsonschema->csvw>=1.5.6->segments->phonemizer) (2024.10.1)\n",
      "Requirement already satisfied: rpds-py>=0.7.1 in /var/lit2425/pib/XTTSv2-Finetuning-for-New-Languages/.venv/lib/python3.10/site-packages (from jsonschema->csvw>=1.5.6->segments->phonemizer) (0.24.0)\n",
      "Requirement already satisfied: six>=1.5 in /var/lit2425/pib/XTTSv2-Finetuning-for-New-Languages/.venv/lib/python3.10/site-packages (from python-dateutil->csvw>=1.5.6->segments->phonemizer) (1.17.0)\n",
      "Requirement already satisfied: pyparsing<4,>=2.1.0 in /var/lit2425/pib/XTTSv2-Finetuning-for-New-Languages/.venv/lib/python3.10/site-packages (from rdflib->csvw>=1.5.6->segments->phonemizer) (3.2.3)\n",
      "Requirement already satisfied: urllib3<3,>=1.21.1 in /var/lit2425/pib/XTTSv2-Finetuning-for-New-Languages/.venv/lib/python3.10/site-packages (from requests->csvw>=1.5.6->segments->phonemizer) (2.3.0)\n",
      "Requirement already satisfied: certifi>=2017.4.17 in /var/lit2425/pib/XTTSv2-Finetuning-for-New-Languages/.venv/lib/python3.10/site-packages (from requests->csvw>=1.5.6->segments->phonemizer) (2025.1.31)\n",
      "Requirement already satisfied: idna<4,>=2.5 in /var/lit2425/pib/XTTSv2-Finetuning-for-New-Languages/.venv/lib/python3.10/site-packages (from requests->csvw>=1.5.6->segments->phonemizer) (3.10)\n",
      "Requirement already satisfied: charset-normalizer<4,>=2 in /var/lit2425/pib/XTTSv2-Finetuning-for-New-Languages/.venv/lib/python3.10/site-packages (from requests->csvw>=1.5.6->segments->phonemizer) (3.4.1)\n"
     ]
    }
   ],
   "source": [
    "!pip install phonemizer praat-parselmouth\n",
    "from phonemizer import phonemize\n",
    "import IPython.display as ipd\n",
    "import subprocess\n",
    "import os"
   ]
  },
  {
   "cell_type": "code",
   "execution_count": null,
   "id": "c716657f",
   "metadata": {},
   "outputs": [
    {
     "name": "stdout",
     "output_type": "stream",
     "text": [
      "Phonemes: hˌətʊmhˈaːɾeː pˈaːs tˈiːn məhˈiːneː bˈʌceː hɛ̃\n"
     ]
    }
   ],
   "source": [
    "hindi_text = \"तुम्हारे पास तीन महीने बचे हैं \"\n",
    "phonemes = phonemize(\n",
    "    hindi_text,\n",
    "    language='hi',\n",
    "    backend='espeak',\n",
    "    strip=True,\n",
    "    preserve_punctuation=False,\n",
    "    with_stress=True\n",
    ")\n",
    "print(\"Phonemes:\", phonemes)  "
   ]
  },
  {
   "cell_type": "code",
   "execution_count": 11,
   "id": "892211bf",
   "metadata": {},
   "outputs": [
    {
     "name": "stdout",
     "output_type": "stream",
     "text": [
      "Phonemes: həlˈoʊ hˈaʊ ɑːɹ juː\n"
     ]
    }
   ],
   "source": [
    "hindi_text = \"Hello How are you? \"\n",
    "phonemes = phonemize(\n",
    "    hindi_text,\n",
    "    language='en-us',\n",
    "    backend='espeak',\n",
    "    strip=True,\n",
    "    preserve_punctuation=False,\n",
    "    with_stress=True\n",
    ")\n",
    "print(\"Phonemes:\", phonemes)  "
   ]
  },
  {
   "cell_type": "code",
   "execution_count": null,
   "id": "46ecbed7",
   "metadata": {},
   "outputs": [],
   "source": []
  }
 ],
 "metadata": {
  "kernelspec": {
   "display_name": ".venv",
   "language": "python",
   "name": "python3"
  },
  "language_info": {
   "codemirror_mode": {
    "name": "ipython",
    "version": 3
   },
   "file_extension": ".py",
   "mimetype": "text/x-python",
   "name": "python",
   "nbconvert_exporter": "python",
   "pygments_lexer": "ipython3",
   "version": "3.10.12"
  }
 },
 "nbformat": 4,
 "nbformat_minor": 5
}
